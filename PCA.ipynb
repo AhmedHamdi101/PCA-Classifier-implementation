{
  "nbformat": 4,
  "nbformat_minor": 0,
  "metadata": {
    "colab": {
      "name": "PCA.ipynb",
      "provenance": [],
      "toc_visible": true
    },
    "kernelspec": {
      "name": "python3",
      "display_name": "Python 3"
    }
  },
  "cells": [
    {
      "cell_type": "code",
      "metadata": {
        "id": "yfxQkxGuHqu-",
        "colab": {
          "base_uri": "https://localhost:8080/",
          "height": 52
        },
        "outputId": "5b6888e9-cef5-4cd5-b68c-daa8326708ca"
      },
      "source": [
        "from google.colab import drive\n",
        "import numpy as np\n",
        "from PIL import Image\n",
        "from sklearn.preprocessing import StandardScaler\n",
        "from sklearn.neighbors import KNeighborsClassifier\n",
        "from sklearn import metrics\n",
        "import matplotlib.pyplot as plt\n",
        "#added to be able to read from google drive\n",
        "drive.mount('/content/drive')\n",
        "dataset = []\n",
        "\n",
        "for person in range(1, 41):\n",
        "    for img in range(1, 11):\n",
        "        #edited to be able to read from google drive\n",
        "        folder_path = '/content/drive/My Drive/dataset/s' + str(person) + '/'\n",
        "\n",
        "        image = Image.open(folder_path + str(img) + '.pgm')\n",
        "        vec = np.array(image).reshape(10304)\n",
        "\n",
        "        dataset.append(vec)\n",
        "\n",
        "D = np.array([example for example in dataset])\n",
        "D = D.reshape((400, 10304))\n",
        "\n",
        "#Genrating the label vector\n",
        "labels =[]\n",
        "\n",
        "for i in range(1, 41):\n",
        "    labels.append(i * np.ones((10, 1)))\n",
        "y = np.stack(labels, axis=0).reshape(400, 1)\n",
        "\n",
        "#odd rows for training\n",
        "x_train = D[::2]\n",
        "y_train = y[::2]\n",
        "\n",
        "#even rows for test\n",
        "x_test = D[1::2]\n",
        "y_test = y[1::2]\n",
        "\n",
        "print(y_train[0])"
      ],
      "execution_count": null,
      "outputs": [
        {
          "output_type": "stream",
          "text": [
            "Drive already mounted at /content/drive; to attempt to forcibly remount, call drive.mount(\"/content/drive\", force_remount=True).\n",
            "[1.]\n"
          ],
          "name": "stdout"
        }
      ]
    },
    {
      "cell_type": "code",
      "metadata": {
        "id": "PaxY3LuAXENL"
      },
      "source": [
        "from numpy import linalg\n",
        "\n",
        "alphas = [0.80, 0.85, 0.90, 0.95]\n",
        "Ks = [1,3,5,7]\n",
        "mean = np.mean(x_train, axis=0)\n",
        "centered_data = x_train - mean\n",
        "covariance = (centered_data.T.dot(centered_data))/len(x_train)"
      ],
      "execution_count": null,
      "outputs": []
    },
    {
      "cell_type": "code",
      "metadata": {
        "id": "ZGeOtBljYAKk"
      },
      "source": [
        "\n",
        "pca_evalues, pca_evectors = linalg.eigh(covariance)\n",
        "x = pca_evalues.argsort()[::-1]\n",
        "pca_evalues = pca_evalues[x]\n",
        "pca_evectors = pca_evectors[:,x]\n"
      ],
      "execution_count": null,
      "outputs": []
    },
    {
      "cell_type": "code",
      "metadata": {
        "id": "N7ntGZJFaDNS"
      },
      "source": [
        "#calculating number of eigen values needed\n",
        "def count_eigenV(pca_evalues, alpha):\n",
        "    total = sum(pca_evalues)\n",
        "    current_sum = 0.0\n",
        "    counter = 0\n",
        "    while current_sum/total < alpha:\n",
        "        current_sum += pca_evalues[counter]\n",
        "        counter += 1\n",
        "    return counter\n",
        "\n",
        "#projecting train and test on projection matrix\n",
        "def project(PJmat, train_data, test_data):\n",
        "    PJmat = PJmat.transpose()\n",
        "    prj_train = np.dot(train_data, PJmat)\n",
        "    prj_test = np.dot(test_data, PJmat)\n",
        "    return prj_train, prj_test\n",
        "\n",
        "#k-neighbors\n",
        "from sklearn.neighbors import KNeighborsClassifier\n",
        "from sklearn.metrics import accuracy_score\n",
        "def Kneighb(k,train,test,testLabel,aplha,y_train):\n",
        "    model = KNeighborsClassifier(n_neighbors=k)\n",
        "    FitModel = model.fit(train, y_train)\n",
        "    predictions = model.predict(test)\n",
        "    accuracy = round(accuracy_score(testLabel, predicitions), 2)\n",
        "\n",
        "\n",
        "    print(\"For alpha = \",aplha, \"and k = \",k, \"Accuracy = \",accuracy)\n",
        "    return accuracy\n"
      ],
      "execution_count": null,
      "outputs": []
    },
    {
      "cell_type": "code",
      "metadata": {
        "id": "YREwNFEYcoOn",
        "colab": {
          "base_uri": "https://localhost:8080/",
          "height": 86
        },
        "outputId": "32c4766c-22f7-49be-e54c-5b501dc3d9e3"
      },
      "source": [
        "count_80 = count_eigenV(pca_evalues, 0.80)\n",
        "count_85 = count_eigenV(pca_evalues, 0.85)\n",
        "count_90 = count_eigenV(pca_evalues, 0.90)\n",
        "count_95 = count_eigenV(pca_evalues, 0.95)\n",
        "\n",
        "print(count_80)\n",
        "print(count_85)\n",
        "print(count_90)\n",
        "print(count_95)"
      ],
      "execution_count": null,
      "outputs": [
        {
          "output_type": "stream",
          "text": [
            "36\n",
            "51\n",
            "76\n",
            "115\n"
          ],
          "name": "stdout"
        }
      ]
    },
    {
      "cell_type": "code",
      "metadata": {
        "id": "g26sekkMdgAu"
      },
      "source": [
        "#clac projection matrix for each alpha\n",
        "\n",
        "prj_mat80 = np.vstack(pca_evectors.T[0:count_80])\n",
        "prj_mat85 = np.vstack(pca_evectors.T[0:count_85])\n",
        "prj_mat90 = np.vstack(pca_evectors.T[0:count_90])\n",
        "prj_mat95 = np.vstack(pca_evectors.T[0:count_95])\n",
        "\n",
        "PJtrain80, PJtest80 = project(prj_mat80, x_train, x_test)\n",
        "PJtrain85, PJtest85 = project(prj_mat85, x_train, x_test)\n",
        "PJtrain90, PJtest90 = project(prj_mat90, x_train, x_test)\n",
        "PJtrain95, PJtest95 = project(prj_mat95, x_train, x_test)\n",
        "\n",
        "#converting label from nd array to 1d array *needed in k-nearest*\n",
        "y_train = y_train.ravel()\n",
        "y_test = y_test.ravel()\n",
        "\n"
      ],
      "execution_count": null,
      "outputs": []
    },
    {
      "cell_type": "code",
      "metadata": {
        "id": "kxAhl6kMvHCB",
        "colab": {
          "base_uri": "https://localhost:8080/",
          "height": 573
        },
        "outputId": "b573d3bd-30c1-442f-fa00-c2de7a8859cd"
      },
      "source": [
        "#converting all labels from float to int alson needed in k nearest \n",
        "y_train = list(map(int, y_train))\n",
        "y_test = list(map(int, y_test))\n",
        "\n",
        "#have fun!\n",
        "i = 0\n",
        "for i in range(4):\n",
        "  x = Kneighb(Ks[i],PJtrain95,PJtest95,y_test,0.80,y_train)\n",
        "  print(\"\")\n",
        "  x = Kneighb(Ks[i],PJtrain95,PJtest95,y_test,0.85,y_train)\n",
        "  print(\"\")\n",
        "  x = Kneighb(Ks[i],PJtrain95,PJtest95,y_test,0.90,y_train)\n",
        "  print(\"\")\n",
        "  x = Kneighb(Ks[i],PJtrain95,PJtest95,y_test,0.95,y_train)\n",
        "  print(\"\")"
      ],
      "execution_count": null,
      "outputs": [
        {
          "output_type": "stream",
          "text": [
            "For alpha =  0.8 and k =  1 Accuracy =  94.0\n",
            "\n",
            "For alpha =  0.85 and k =  1 Accuracy =  94.0\n",
            "\n",
            "For alpha =  0.9 and k =  1 Accuracy =  94.0\n",
            "\n",
            "For alpha =  0.95 and k =  1 Accuracy =  94.0\n",
            "\n",
            "For alpha =  0.8 and k =  3 Accuracy =  91.5\n",
            "\n",
            "For alpha =  0.85 and k =  3 Accuracy =  91.5\n",
            "\n",
            "For alpha =  0.9 and k =  3 Accuracy =  91.5\n",
            "\n",
            "For alpha =  0.95 and k =  3 Accuracy =  91.5\n",
            "\n",
            "For alpha =  0.8 and k =  5 Accuracy =  85.0\n",
            "\n",
            "For alpha =  0.85 and k =  5 Accuracy =  85.0\n",
            "\n",
            "For alpha =  0.9 and k =  5 Accuracy =  85.0\n",
            "\n",
            "For alpha =  0.95 and k =  5 Accuracy =  85.0\n",
            "\n",
            "For alpha =  0.8 and k =  7 Accuracy =  74.0\n",
            "\n",
            "For alpha =  0.85 and k =  7 Accuracy =  74.0\n",
            "\n",
            "For alpha =  0.9 and k =  7 Accuracy =  74.0\n",
            "\n",
            "For alpha =  0.95 and k =  7 Accuracy =  74.0\n",
            "\n"
          ],
          "name": "stdout"
        }
      ]
    }
  ]
}